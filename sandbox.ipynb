{
 "cells": [
  {
   "cell_type": "code",
   "execution_count": null,
   "id": "f8ad0577-5d87-4128-83be-a7b629080700",
   "metadata": {
    "tags": []
   },
   "outputs": [],
   "source": [
    "import pandas as pd\n",
    "import seaborn as sns\n",
    "import matplotlib.pyplot as plt\n",
    "import numpy as np"
   ]
  },
  {
   "cell_type": "code",
   "execution_count": null,
   "id": "5fb76305-23cd-47a0-a267-b09b002cb070",
   "metadata": {
    "tags": []
   },
   "outputs": [],
   "source": [
    "# Import data\n",
    "df = pd.read_csv('medical_examination.csv')"
   ]
  },
  {
   "cell_type": "markdown",
   "id": "2b0d0378-fb40-4dcf-849d-88d9b0c92387",
   "metadata": {},
   "source": [
    "Add an overweight column to the data. To determine if a person is overweight, first calculate their BMI by dividing their weight in kilograms by the square of their height in meters. If that value is > 25 then the person is overweight. Use the value 0 for NOT overweight and the value 1 for overweight."
   ]
  },
  {
   "cell_type": "code",
   "execution_count": null,
   "id": "5d93ea98-15f8-4d2f-88a1-7a1b33ef199c",
   "metadata": {
    "tags": []
   },
   "outputs": [],
   "source": [
    "# Add 'overweight' column set all to 0\n",
    "df['overweight'] = 0\n",
    "\n",
    "# label BMI > 25 as overweight (1)\n",
    "df.loc[df['weight'] / ((df['height']/100)**2) > 25, 'overweight'] = 1\n"
   ]
  },
  {
   "cell_type": "markdown",
   "id": "9aaa32e3-7295-4f71-b216-679266f638fa",
   "metadata": {},
   "source": [
    "Normalize the data by making 0 always good and 1 always bad. If the value of cholesterol or gluc is 1, make the value 0. If the value is more than 1, make the value 1."
   ]
  },
  {
   "cell_type": "code",
   "execution_count": null,
   "id": "5319e742-183e-4324-a7fe-ecda866c8869",
   "metadata": {
    "tags": []
   },
   "outputs": [],
   "source": [
    "#Normalize all values = 1 to 0\n",
    "df.loc[df['cholesterol'] == 1, 'cholesterol'] = 0\n",
    "df.loc[df['gluc'] == 1, 'gluc'] = 0\n",
    "\n",
    "#normalize all values >1 to 1\n",
    "df.loc[df['cholesterol'] > 1, 'cholesterol'] = 1\n",
    "df.loc[df['gluc'] > 1, 'gluc'] = 1\n",
    "\n",
    "print(df)"
   ]
  },
  {
   "cell_type": "markdown",
   "id": "b0d3364e-9679-41ff-ad40-aed63a6e9921",
   "metadata": {},
   "source": [
    "Convert the data into long format and create a chart that shows the value counts of the categorical features using seaborn's catplot(). The dataset should be split by 'Cardio' so there is one chart for each cardio value. The chart should look like examples/Figure_1.png."
   ]
  },
  {
   "cell_type": "code",
   "execution_count": null,
   "id": "475427a0-6895-43c4-afec-b191ea0ac4f8",
   "metadata": {
    "tags": []
   },
   "outputs": [],
   "source": [
    "# Draw Categorical Plot\n",
    "def draw_cat_plot():\n",
    "    # Create DataFrame for cat plot using `pd.melt` using just the values from 'active', 'alco', 'cholesterol', 'gluc', 'overweight', 'smoke'.\n",
    "    df_cat = pd.melt(df, id_vars = 'cardio', var_name = 'variable', value_vars = ['active', 'alco','cholesterol', 'gluc', 'overweight','smoke'])\n",
    "    \n",
    "    # Group and reformat the data to split it by 'cardio'. Show the counts of each feature. \n",
    "    df_cat = df_cat.groupby(['cardio', 'variable', 'value']).size().reset_index()\n",
    "    \n",
    "    # Rename one of the columns for the catplot to work correctly.\n",
    "    df_cat = df_cat.rename(columns={0: 'total'})\n",
    "      \n",
    "    # Draw the catplot with 'sns.catplot()'\n",
    "    catplot = sns.catplot(data=df_cat, x='variable', y='total', col='cardio', kind='bar', hue='value')\n",
    "\n",
    "    # Get the figure for the output\n",
    "    fig = catplot.fig\n",
    "\n",
    "    # Do not modify the next two lines\n",
    "    fig.savefig('catplot.png')\n",
    "    #return fig\n",
    " "
   ]
  },
  {
   "cell_type": "markdown",
   "id": "1ad0b763-fa0f-47c8-85b8-211b8252f776",
   "metadata": {},
   "source": [
    "Clean the data. Filter out the following patient segments that represent incorrect data:\n",
    "diastolic pressure is higher than systolic (Keep the correct data with (df['ap_lo'] <= df['ap_hi']))\n",
    "height is less than the 2.5th percentile (Keep the correct data with (df['height'] >= df['height'].quantile(0.025)))\n",
    "height is more than the 97.5th percentile\n",
    "weight is less than the 2.5th percentile\n",
    "weight is more than the 97.5th percentile"
   ]
  },
  {
   "cell_type": "code",
   "execution_count": null,
   "id": "627e84eb-e419-4e65-82ed-abdbd97686d3",
   "metadata": {},
   "outputs": [],
   "source": [
    "# Clean the data\n",
    "df_heat = df[(df['ap_lo']<=df['ap_hi']) &\n",
    "(df['height'] >= df['height'].quantile(0.025))&\n",
    "(df['height'] <= df['height'].quantile(0.975))&\n",
    "(df['weight'] >= df['weight'].quantile(0.025))&\n",
    "(df['weight'] <= df['weight'].quantile(0.975))\n",
    "]"
   ]
  },
  {
   "cell_type": "markdown",
   "id": "9aedbb86-6285-4ba6-8df6-e280e7d6b970",
   "metadata": {},
   "source": [
    "Create a correlation matrix using the dataset. Plot the correlation matrix using seaborn's heatmap(). Mask the upper triangle. The chart should look like examples/Figure_2.png."
   ]
  },
  {
   "cell_type": "code",
   "execution_count": null,
   "id": "37ba12ef-9c77-484e-a7cb-3dc99a1d9e29",
   "metadata": {},
   "outputs": [],
   "source": [
    "# Draw Heat Map\n",
    "def draw_heat_map():\n",
    "    \n",
    "    # Calculate the correlation matrix\n",
    "    corr = df_heat.corr()\n",
    "    \n",
    "    # Generate a mask for the upper triangle\n",
    "    mask = np.triu(corr)\n",
    "\n",
    "    # Set up the matplotlib figure\n",
    "    fig, ax = plt.subplots(figsize=(7, 5))\n",
    "\n",
    "    # Draw the heatmap with 'sns.heatmap()'\n",
    "    sns.heatmap(corr, mask=mask, fmt='.1f',vmax=.3, linewidths=.6,square=True, cbar_kws = {'shrink':0.5},annot=True, center=0)\n",
    "\n",
    "    # Do not modify the next two lines\n",
    "    fig.savefig('heatmap.png')\n",
    "    return fig\n",
    "\n",
    "    "
   ]
  }
 ],
 "metadata": {
  "kernelspec": {
   "display_name": "Python 3 (ipykernel)",
   "language": "python",
   "name": "python3"
  },
  "language_info": {
   "codemirror_mode": {
    "name": "ipython",
    "version": 3
   },
   "file_extension": ".py",
   "mimetype": "text/x-python",
   "name": "python",
   "nbconvert_exporter": "python",
   "pygments_lexer": "ipython3",
   "version": "3.11.5"
  }
 },
 "nbformat": 4,
 "nbformat_minor": 5
}
